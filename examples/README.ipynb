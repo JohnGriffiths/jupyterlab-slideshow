{
 "cells": [
  {
   "cell_type": "markdown",
   "id": "b9ef2cd6-b100-4e32-856e-831034e5c829",
   "metadata": {
    "slideshow": {
     "slide_type": "slide"
    },
    "tags": []
   },
   "source": [
    "# Welcome to `jupyter-deck`\n",
    "\n",
    "> `jupyter-deck` presents your _Notebooks_, _Files_, and other activities as a two-dimensional grid of _slides_."
   ]
  },
  {
   "cell_type": "markdown",
   "id": "2f8b3ef7-3757-4647-9156-3c35e4c65d95",
   "metadata": {
    "slideshow": {
     "slide_type": "fragment"
    },
    "tags": []
   },
   "source": [
    "- Each _slide_ is made of one or more _cells_"
   ]
  },
  {
   "cell_type": "markdown",
   "id": "657f0a26-57a7-4a63-8c9c-d79fecd25a78",
   "metadata": {
    "slideshow": {
     "slide_type": "fragment"
    },
    "tags": []
   },
   "source": [
    "- Each cell can be of type _markdown_ (like this one)..."
   ]
  },
  {
   "cell_type": "code",
   "execution_count": 6,
   "id": "fac58140-6d60-4ad9-afa9-f5a5ec2ab9ef",
   "metadata": {
    "slideshow": {
     "slide_type": "fragment"
    },
    "tags": []
   },
   "outputs": [
    {
     "name": "stdout",
     "output_type": "stream",
     "text": [
      "_code_, like this one\n"
     ]
    }
   ],
   "source": [
    "  print(\"_code_, like this one\")"
   ]
  },
  {
   "cell_type": "raw",
   "id": "db3e22f6-57ba-4fa1-a667-1d37083eee01",
   "metadata": {
    "slideshow": {
     "slide_type": "fragment"
    },
    "tags": []
   },
   "source": [
    "or _raw_, like this one, whatever these are good for"
   ]
  },
  {
   "cell_type": "markdown",
   "id": "7af92479-bd24-4262-9023-4581b173bac0",
   "metadata": {
    "slideshow": {
     "slide_type": "slide"
    },
    "tags": []
   },
   "source": [
    "# Slide Types\n",
    "\n",
    "> Changing the _Slide Type_ in the _Property Inspector_ controls how slides are displayed. \n",
    "\n",
    "- A `slide` cell gets its own, dedicated view"
   ]
  },
  {
   "cell_type": "markdown",
   "id": "1ffa1762-5c6b-41ba-9ec1-b41d105b0052",
   "metadata": {
    "slideshow": {
     "slide_type": "fragment"
    },
    "tags": []
   },
   "source": [
    "- a `fragment` slide (like this one) are gradually revealed"
   ]
  },
  {
   "cell_type": "markdown",
   "id": "16980d54-cc4f-43b8-9ce1-3f75548a423c",
   "metadata": {
    "slideshow": {
     "slide_type": "fragment"
    },
    "tags": []
   },
   "source": [
    "- A `subslide` uses an alternate axis, sort of like a \"backup\" slide (more about this later!)"
   ]
  },
  {
   "cell_type": "markdown",
   "id": "a65735d7-e8cc-4f6c-a248-7f48ae8b04a0",
   "metadata": {
    "slideshow": {
     "slide_type": "fragment"
    },
    "tags": []
   },
   "source": [
    "- A `notes` slide will only be shown in the off-screen viewer (there's one below this)"
   ]
  },
  {
   "cell_type": "markdown",
   "id": "ad253ca4-fd66-419e-9571-81c6edc1be06",
   "metadata": {
    "slideshow": {
     "slide_type": "notes"
    },
    "tags": []
   },
   "source": [
    "> Here are some helpful notes!"
   ]
  },
  {
   "cell_type": "markdown",
   "id": "297a31bf-2119-416f-82ed-b32aac939f55",
   "metadata": {
    "slideshow": {
     "slide_type": "fragment"
    },
    "tags": []
   },
   "source": [
    "- A `skip` slide will not be shown at all (there's one below this)"
   ]
  },
  {
   "cell_type": "markdown",
   "id": "6ed82c43-4aa6-4e25-8012-66d1f572924e",
   "metadata": {
    "slideshow": {
     "slide_type": "skip"
    },
    "tags": []
   },
   "source": [
    "> Carry on, nothing to see here"
   ]
  },
  {
   "cell_type": "markdown",
   "id": "826636f2-316b-4be7-bd2c-5e2ccfae8880",
   "metadata": {
    "slideshow": {
     "slide_type": "slide"
    },
    "tags": []
   },
   "source": [
    "# Multiple Documents\n",
    "\n",
    "- You can use hyperlinks to go to [other documents](./README.md)"
   ]
  },
  {
   "cell_type": "markdown",
   "id": "b8ef01e5-f644-4fc5-b778-8a1903c383e5",
   "metadata": {
    "slideshow": {
     "slide_type": "slide"
    },
    "tags": []
   },
   "source": [
    "# Widgets\n",
    "\n",
    "Jupyter Widgets mix code and rich output."
   ]
  },
  {
   "cell_type": "code",
   "execution_count": 5,
   "id": "1c65020c-f803-47a7-8ec8-9573a72b6fdc",
   "metadata": {
    "slideshow": {
     "slide_type": "fragment"
    },
    "tags": []
   },
   "outputs": [
    {
     "data": {
      "application/vnd.jupyter.widget-view+json": {
       "model_id": "bf6529b8f6a046c6803620165a062acf",
       "version_major": 2,
       "version_minor": 0
      },
      "text/plain": [
       "HBox(children=(FloatSlider(value=0.0, description='a', orientation='vertical'), FloatSlider(value=1.0, descrip…"
      ]
     },
     "execution_count": 5,
     "metadata": {},
     "output_type": "execute_result"
    }
   ],
   "source": [
    "import ipywidgets as W, traitlets as T, functools as F, math as M\n",
    "sliders = [W.FloatSlider(description=i, orientation=\"vertical\") for i in \"abcdef\"]\n",
    "[\n",
    "    T.dlink((sliders[0], \"value\"), (s, \"value\"), F.partial(M.pow, i + 2)) \n",
    "    for i, s in enumerate(sliders[1:])\n",
    "]\n",
    "W.HBox(sliders)"
   ]
  },
  {
   "cell_type": "markdown",
   "id": "1b39ca81-98bf-4aac-905c-2f45b9de95c3",
   "metadata": {
    "slideshow": {
     "slide_type": "slide"
    },
    "tags": []
   },
   "source": [
    "# Themes\n",
    "\n",
    "`jupyterlab-deck` uses the JupyterLab theme system. Themes can even be changed _on the fly_."
   ]
  },
  {
   "cell_type": "code",
   "execution_count": 3,
   "id": "05e90e5d-bd3c-4896-ba4c-38dda5af467a",
   "metadata": {
    "tags": []
   },
   "outputs": [
    {
     "data": {
      "text/html": [
       "\n",
       "<button class=\"jp-mod-styled jp-mod-accept\"\n",
       "  data-commandlinker-command=\"apputils:change-theme\" \n",
       "  data-commandlinker-args='{\"theme\": \"JupyterLab Light\"}'>The Light Side</button>"
      ],
      "text/plain": [
       "<IPython.core.display.HTML object>"
      ]
     },
     "metadata": {},
     "output_type": "display_data"
    },
    {
     "data": {
      "text/html": [
       "\n",
       "<button class=\"jp-mod-styled jp-mod-accept\"\n",
       "  data-commandlinker-command=\"apputils:change-theme\" \n",
       "  data-commandlinker-args='{\"theme\": \"JupyterLab Dark\"}'>The Dark Side</button>"
      ],
      "text/plain": [
       "<IPython.core.display.HTML object>"
      ]
     },
     "metadata": {},
     "output_type": "display_data"
    }
   ],
   "source": [
    "from IPython.display import HTML\n",
    "[display(HTML(f\"\"\"\n",
    "<button class=\"jp-mod-styled jp-mod-accept\"\n",
    "  data-commandlinker-command=\"apputils:change-theme\" \n",
    "  data-commandlinker-args='{{\"theme\": \"JupyterLab {t}\"}}'>The {t} Side</button>\"\"\"))\n",
    "for t in [\"Light\", \"Dark\"]];"
   ]
  },
  {
   "cell_type": "markdown",
   "id": "fa79cfcf-0a80-4c02-a582-5634edd87e23",
   "metadata": {
    "slideshow": {
     "slide_type": "fragment"
    },
    "tags": []
   },
   "source": [
    "```{hint}\n",
    "For more themey goodness, try [jupyterlab-fonts](https://github.com/deathbeds/jupyterlab-fonts)\n",
    "```"
   ]
  },
  {
   "cell_type": "markdown",
   "id": "2947a2c9-30c3-4396-adc4-48b8f7e0ea11",
   "metadata": {
    "slideshow": {
     "slide_type": "slide"
    },
    "tags": []
   },
   "source": [
    "# Thanks for trying `jupyter-deck`!"
   ]
  }
 ],
 "metadata": {
  "kernelspec": {
   "display_name": "Python 3 (ipykernel)",
   "language": "python",
   "name": "python3"
  },
  "language_info": {
   "codemirror_mode": {
    "name": "ipython",
    "version": 3
   },
   "file_extension": ".py",
   "mimetype": "text/x-python",
   "name": "python",
   "nbconvert_exporter": "python",
   "pygments_lexer": "ipython3",
   "version": "3.10.6"
  },
  "toc-autonumbering": false,
  "toc-showcode": true,
  "toc-showmarkdowntxt": false,
  "toc-showtags": false
 },
 "nbformat": 4,
 "nbformat_minor": 5
}
